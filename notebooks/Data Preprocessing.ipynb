{
 "cells": [
  {
   "cell_type": "code",
   "execution_count": 1,
   "metadata": {},
   "outputs": [],
   "source": [
    "import sys\n",
    "sys.path.append('../')"
   ]
  },
  {
   "cell_type": "code",
   "execution_count": 2,
   "metadata": {},
   "outputs": [],
   "source": [
    "import os\n",
    "os.environ['KMP_DUPLICATE_LIB_OK']='True' # * Solve multiprocessing error"
   ]
  },
  {
   "cell_type": "code",
   "execution_count": 4,
   "metadata": {},
   "outputs": [],
   "source": [
    "from src.data import preprocess_dataset"
   ]
  },
  {
   "cell_type": "code",
   "execution_count": 5,
   "metadata": {},
   "outputs": [
    {
     "name": "stderr",
     "output_type": "stream",
     "text": [
      "Processing train set: 100%|██████████| 100/100 [00:23<00:00,  4.18it/s]\n",
      "Processing test set: 100%|██████████| 100/100 [00:24<00:00,  4.01it/s]\n"
     ]
    }
   ],
   "source": [
    "preprocess_dataset(\n",
    "    raw_dir=\"../data/raw\",\n",
    "    processed_dir=\"../data/processed/\",\n",
    "    resize_dim=(512, 512),\n",
    "    l_bin=64,\n",
    "    ab_bin=64,\n",
    "    num_classes=50,\n",
    "    n_jobs=6\n",
    ")"
   ]
  },
  {
   "cell_type": "code",
   "execution_count": null,
   "metadata": {},
   "outputs": [],
   "source": []
  }
 ],
 "metadata": {
  "kernelspec": {
   "display_name": "Python 3.9.12 ('base')",
   "language": "python",
   "name": "python3"
  },
  "language_info": {
   "codemirror_mode": {
    "name": "ipython",
    "version": 3
   },
   "file_extension": ".py",
   "mimetype": "text/x-python",
   "name": "python",
   "nbconvert_exporter": "python",
   "pygments_lexer": "ipython3",
   "version": "3.9.12"
  },
  "orig_nbformat": 4,
  "vscode": {
   "interpreter": {
    "hash": "896c4df13426a22839b93cb64fa1aa822b93dbe8d611bea7d378f148273c1926"
   }
  }
 },
 "nbformat": 4,
 "nbformat_minor": 2
}
